{
 "cells": [
  {
   "cell_type": "markdown",
   "id": "3db6467a",
   "metadata": {},
   "source": [
    "# Set Assignments:"
   ]
  },
  {
   "cell_type": "markdown",
   "id": "6bca18ec",
   "metadata": {},
   "source": [
    "1. Add a list of elements to a given set\n",
    "Given:\n",
    "sampleSet = {\"Yellow\", \"Orange\", \"Black\"}\n",
    "sampleList = [\"Blue\", \"Green\", \"Red\",”Yellow”,”orange”]\n",
    "\n"
   ]
  },
  {
   "cell_type": "code",
   "execution_count": 10,
   "id": "b9030455",
   "metadata": {},
   "outputs": [
    {
     "name": "stdout",
     "output_type": "stream",
     "text": [
      "{'Yellow', 'Orange', 'Black', 'orange', 'Blue', 'Green', 'Red'}\n"
     ]
    }
   ],
   "source": [
    "sampleSet = {\"Yellow\", \"Orange\", \"Black\"}\n",
    "sampleList = [\"Blue\", \"Green\", \"Red\",'Yellow','orange']\n",
    "sampleList=set(sampleList)\n",
    "sampleSet.update(sampleList)\n",
    "print(sampleSet)"
   ]
  },
  {
   "cell_type": "markdown",
   "id": "ecf336cd",
   "metadata": {},
   "source": [
    "2. display common elements from the given set\n",
    "set1 = {10, 20, 30, 40, 50}\n",
    "set2 = {30, 40, 50, 60, 70"
   ]
  },
  {
   "cell_type": "code",
   "execution_count": 11,
   "id": "c1c7fdaf",
   "metadata": {},
   "outputs": [
    {
     "data": {
      "text/plain": [
       "{30, 40, 50}"
      ]
     },
     "execution_count": 11,
     "metadata": {},
     "output_type": "execute_result"
    }
   ],
   "source": [
    "set1 = {10, 20, 30, 40, 50} \n",
    "set2 = {30, 40, 50, 60, 70}\n",
    "set1 & set2"
   ]
  },
  {
   "cell_type": "markdown",
   "id": "5ee8b160",
   "metadata": {},
   "source": [
    "\n",
    "3. Generate a new set with all items from both sets by removing numbers which are in both sets.\n",
    "set1 = {10, 20, 30, 40, 50,25}\n",
    "set2 = {30, 40, 50, 60, 70,100}\n",
    "o/p : order is not important\n",
    "{70, 10, 20, 60,25,100}"
   ]
  },
  {
   "cell_type": "code",
   "execution_count": 22,
   "id": "b272c105",
   "metadata": {},
   "outputs": [
    {
     "name": "stdout",
     "output_type": "stream",
     "text": [
      "{100, 70, 10, 20, 25, 60}\n"
     ]
    }
   ],
   "source": [
    "set1 = {10, 20, 30, 40, 50,25}\n",
    "set2 = {30, 40, 50, 60, 70,100} \n",
    "set3 = { x for x in ((set1 | set2) - (set1 & set2))  }\n",
    "    \n",
    "print(set3)"
   ]
  },
  {
   "cell_type": "markdown",
   "id": "1e69f9cb",
   "metadata": {},
   "source": [
    "4. set of all elements in either A or B, but not both\n",
    "set1 = {10, 20, 30, 40, 50}\n",
    "set2 = {30, 40, 50, 60, 70}\n",
    "Expected output:\n",
    "{20, 70, 10, 60}\n"
   ]
  },
  {
   "cell_type": "code",
   "execution_count": 29,
   "id": "1e874ea5",
   "metadata": {},
   "outputs": [
    {
     "data": {
      "text/plain": [
       "{10, 20, 60, 70}"
      ]
     },
     "execution_count": 29,
     "metadata": {},
     "output_type": "execute_result"
    }
   ],
   "source": [
    "set1 = {10, 20, 30, 40, 50}\n",
    "set2 = {30, 40, 50, 60, 70}\n",
    "(set1 | set2 )-(set1 & set2)\n"
   ]
  },
  {
   "cell_type": "markdown",
   "id": "a4716e6d",
   "metadata": {},
   "source": [
    "5. Update set1 by adding items from set2, except common items\n",
    "set1 = {10, 20, 30, 40, 50}\n",
    "set2 = {30, 40, 50, 60, 70}\n",
    "Expected output:\n",
    "{70, 10, 20, 60}"
   ]
  },
  {
   "cell_type": "code",
   "execution_count": 33,
   "id": "ce9a86b0",
   "metadata": {},
   "outputs": [
    {
     "name": "stdout",
     "output_type": "stream",
     "text": [
      "{20, 70, 10, 60}\n"
     ]
    }
   ],
   "source": [
    "set1 = {10, 20, 30, 40, 50} \n",
    "set2 = {30, 40, 50, 60, 70} \n",
    "set1 ^= set2\n",
    "print(set1)"
   ]
  },
  {
   "cell_type": "markdown",
   "id": "4e81e204",
   "metadata": {},
   "source": [
    "Q6.  Take a sentence as input from user. Every word is seperated by space. Print all unique words from the sentence."
   ]
  },
  {
   "cell_type": "code",
   "execution_count": 34,
   "id": "419d20e8",
   "metadata": {},
   "outputs": [
    {
     "name": "stdout",
     "output_type": "stream",
     "text": [
      "Enter string hii its me i am the problem its me\n",
      "{'am', 'problem', 'me', 'its', 'the', 'hii', 'i'}\n"
     ]
    }
   ],
   "source": [
    "str1=input(\"Enter string \")\n",
    "str1=str1.split(\" \")\n",
    "print(set(str1))"
   ]
  },
  {
   "cell_type": "markdown",
   "id": "93f3b230",
   "metadata": {},
   "source": [
    "# Tuple Assignments"
   ]
  },
  {
   "cell_type": "markdown",
   "id": "2647f1a8",
   "metadata": {},
   "source": [
    "1. Reverse the following tuple\n",
    "aTuple = (10, 20, 30, 40, 50,60)\n",
    "Expected output:\n",
    "(60,50, 40, 30, 20, 10)"
   ]
  },
  {
   "cell_type": "code",
   "execution_count": 36,
   "id": "1789a252",
   "metadata": {},
   "outputs": [
    {
     "data": {
      "text/plain": [
       "(60, 50, 40, 30, 20, 10)"
      ]
     },
     "execution_count": 36,
     "metadata": {},
     "output_type": "execute_result"
    }
   ],
   "source": [
    "Tuple = (10, 20, 30, 40, 50,60)\n",
    "Tuple[::-1]"
   ]
  },
  {
   "cell_type": "markdown",
   "id": "3fed5f7f",
   "metadata": {},
   "source": [
    "2. display value 20 from the following tuple\n",
    "aTuple = (\"Orange\", [10, 20, 30], (5, 15, 25))\n"
   ]
  },
  {
   "cell_type": "code",
   "execution_count": 37,
   "id": "c84565d2",
   "metadata": {},
   "outputs": [
    {
     "data": {
      "text/plain": [
       "20"
      ]
     },
     "execution_count": 37,
     "metadata": {},
     "output_type": "execute_result"
    }
   ],
   "source": [
    "Tuple = (\"Orange\", [10, 20, 30], (5, 15, 25))\n",
    "Tuple[1][1]"
   ]
  },
  {
   "cell_type": "markdown",
   "id": "ec67f8a3",
   "metadata": {},
   "source": [
    "3. Unpack the following tuple into 4 variables\n",
    "aTuple = (10, 20, 30, 40)"
   ]
  },
  {
   "cell_type": "code",
   "execution_count": 40,
   "id": "2a7bda66",
   "metadata": {},
   "outputs": [
    {
     "name": "stdout",
     "output_type": "stream",
     "text": [
      "10 20 30 40 <class 'int'>\n"
     ]
    }
   ],
   "source": [
    "Tuple = (10, 20, 30, 40)\n",
    "a,b,c,d=Tuple\n",
    "a,b,c,d\n",
    "print(a,b,c,d, type(a))"
   ]
  },
  {
   "cell_type": "markdown",
   "id": "3ccab45d",
   "metadata": {},
   "source": [
    "4. Swap the following two tuples\n",
    "tuple1 = (11, 22)\n",
    "tuple2 = (99, 88)\n",
    "Expected output:\n",
    "tuple1 = (99, 88)\n",
    "tuple2 = (11, 22)"
   ]
  },
  {
   "cell_type": "code",
   "execution_count": 42,
   "id": "bce63f59",
   "metadata": {},
   "outputs": [
    {
     "name": "stdout",
     "output_type": "stream",
     "text": [
      "(99, 88)\n",
      "(11, 22)\n"
     ]
    }
   ],
   "source": [
    "a = (11, 22) \n",
    "b = (99, 88)\n",
    "a,b=b,a\n",
    "print(a)\n",
    "print(b)"
   ]
  },
  {
   "cell_type": "markdown",
   "id": "5dc8636d",
   "metadata": {},
   "source": [
    "5. Copy element 44 and 55 from the following tuple into a new tuple\n",
    "tuple1 = (11, 22, 33, 44, 55, 66)\n",
    "Expected output:\n",
    "tuple2: (44, 55)"
   ]
  },
  {
   "cell_type": "code",
   "execution_count": 43,
   "id": "eadbfdfc",
   "metadata": {},
   "outputs": [
    {
     "name": "stdout",
     "output_type": "stream",
     "text": [
      "(44, 55)\n"
     ]
    }
   ],
   "source": [
    "t = (11, 22, 33, 44, 55, 66)\n",
    "t2=tuple(x for x in t if x==44 or x==55)\n",
    "print(t2)"
   ]
  },
  {
   "cell_type": "markdown",
   "id": "18b734ab",
   "metadata": {},
   "source": [
    "6. Modify the first item (22) of a list inside a following tuple to 200\n",
    "tuple1 = (11, [22, 33], 44, 55)\n",
    "Expected output:\n",
    "tuple1: (11, [200, 33], 44, 55)"
   ]
  },
  {
   "cell_type": "code",
   "execution_count": 45,
   "id": "f0b84fb8",
   "metadata": {},
   "outputs": [
    {
     "name": "stdout",
     "output_type": "stream",
     "text": [
      "(11, [200, 33], 44, 55)\n"
     ]
    }
   ],
   "source": [
    "t1 = (11, [22, 33], 44, 55)\n",
    "t1[1][0]=200\n",
    "print(t1)"
   ]
  },
  {
   "cell_type": "markdown",
   "id": "32c67aa1",
   "metadata": {},
   "source": [
    "7. Take two integer values in a & b. Swap their values using tuple, using temparary variable and without tuple and without temparary variable.\n",
    "Ex. a=10 b=23\n",
    "After swapping a=23 b=10"
   ]
  },
  {
   "cell_type": "code",
   "execution_count": 49,
   "id": "da3461c2",
   "metadata": {},
   "outputs": [
    {
     "name": "stdout",
     "output_type": "stream",
     "text": [
      "a=  23\n",
      "b=  10\n"
     ]
    }
   ],
   "source": [
    "a=10\n",
    "b=23\n",
    "a,b=b,a\n",
    "print('a= ',a)\n",
    "print('b= ',b)"
   ]
  },
  {
   "cell_type": "markdown",
   "id": "7bf01f77",
   "metadata": {},
   "source": [
    "# Dictionary Assignments"
   ]
  },
  {
   "cell_type": "markdown",
   "id": "77f81aac",
   "metadata": {},
   "source": [
    "1. In cryptography, a Caesar cipher is a very simple encryption techniques in which each letter in the plain text is replaced by a letter some fixed number of positions down the alphabet. For example, with a shift of 3, A would be replaced by D, B would become E, and so on. The method is named after Julius Caesar, who used it to communicate with his generals. ROT-13 (\"rotate by 13 places\") is a widely used\n",
    "example of a Caesar cipher where the shift is 13. In Python, the key for ROT-13 may be represented by means of the following dictionary\n",
    "{'a':'n', 'b':'o', 'c':'p', 'd':'q', 'e':'r', 'f':'s', 'g':'t', 'h':'u', 'i':'v', 'j':'w', 'k':'x', 'l':'y', 'm':'z', 'n':'a', 'o':'b', 'p':'c',\n",
    "'q':'d', 'r':'e', 's':'f', 't':'g', 'u':'h', 'v':'i', 'w':'j', 'x':'k', 'y':'l', 'z':'m', 'A':'N', 'B':'O', 'C':'P', 'D':'Q', 'E':'R', 'F':'S', 'G':'T', 'H':'U', 'I':'V', 'J':'W', 'K':'X', 'L':'Y', 'M':'Z', 'N':'A', 'O':'B', 'P':'C', 'Q':'D', 'R':'E', 'S':'F', 'T':'G', 'U':'H', 'V':'I', 'W':'J', 'X':'K', 'Y':'L', 'Z':'M'}\n",
    "Your task in this exercise is to implement an encoder/decoder of ROT-13. Once you're done, you will be able to read the following secret message:\n",
    "Pnrfne pvcure? V zhpu cersre Pnrfne fnynq!\n",
    "Note that since English has 26 characters, your ROT-13 program will be able to both encode and decode texts written in English."
   ]
  },
  {
   "cell_type": "code",
   "execution_count": 5,
   "id": "1863bca3",
   "metadata": {},
   "outputs": [
    {
     "name": "stdout",
     "output_type": "stream",
     "text": [
      "Enter sentence to decode  Pnrfne pvcure? V zhpu cersre Pnrfne fnynq!\n",
      "Caesar cipherA I much prefer Caesar salad!\n"
     ]
    }
   ],
   "source": [
    "d={'a':'n', 'b':'o', 'c':'p', 'd':'q', 'e':'r', 'f':'s', 'g':'t', 'h':'u', 'i':'v', 'j':'w', 'k':'x', 'l':'y', 'm':'z', \n",
    "   'n':'a', 'o':'b', 'p':'c','q':'d', 'r':'e', 's':'f', 't':'g', 'u':'h', 'v':'i', 'w':'j', 'x':'k', 'y':'l', 'z':'m', \n",
    "   'A':'N', 'B':'O', 'C':'P', 'D':'Q', 'E':'R', 'F':'S', 'G':'T', 'H':'U', 'I':'V', 'J':'W', 'K':'X', 'L':'Y', 'M':'Z', \n",
    "   'N':'A', 'O':'B', 'P':'C', 'Q':'D', 'R':'E', 'S':'F', 'T':'G', 'U':'H', 'V':'I', 'W':'J', 'X':'K', 'Y':'L', 'Z':'M'}\n",
    "sen=input(\"Enter sentence to decode  \")\n",
    "l1=\"\"\n",
    "for char in sen:\n",
    "    if char in d:\n",
    "        l1 +=d[char]\n",
    "    else:\n",
    "        l1 +=char\n",
    "print(l1)\n"
   ]
  },
  {
   "cell_type": "markdown",
   "id": "599d7ac3",
   "metadata": {},
   "source": [
    "2. Given a dictionary of students and their favourite colours:\n",
    "people={'Arham':'Blue','Lisa':'Yellow',''Vinod:'Purple','Jenny':'Pink'}\n",
    "a. Find out how many students are in the list\n",
    "b. Change Lisa’s favourite colour\n",
    "c. Remove 'Jenny' and her favourite colour\n",
    "d. Sort and print students and their favourite colours alphabetically by name"
   ]
  },
  {
   "cell_type": "code",
   "execution_count": 6,
   "id": "5647ed46",
   "metadata": {},
   "outputs": [
    {
     "name": "stdout",
     "output_type": "stream",
     "text": [
      "['Arham', 'Lisa', 'Vinod', 'Jenny']\n"
     ]
    }
   ],
   "source": [
    "people={'Arham':'Blue','Lisa':'Yellow','Vinod':'Purple','Jenny':'Pink'}\n",
    "# a.\n",
    "l1=list(people.keys())\n",
    "print(l1)"
   ]
  },
  {
   "cell_type": "code",
   "execution_count": 7,
   "id": "851f1718",
   "metadata": {},
   "outputs": [
    {
     "name": "stdout",
     "output_type": "stream",
     "text": [
      "{'Arham': 'Blue', 'Lisa': 'Pink', 'Vinod': 'Purple', 'Jenny': 'Pink'}\n"
     ]
    }
   ],
   "source": [
    "# b.Change Lisa’s favourite colour\n",
    "people['Lisa']='Pink'\n",
    "print(people)"
   ]
  },
  {
   "cell_type": "code",
   "execution_count": 9,
   "id": "1485974e",
   "metadata": {},
   "outputs": [
    {
     "name": "stdout",
     "output_type": "stream",
     "text": [
      "{'Arham': 'Blue', 'Lisa': 'Pink', 'Vinod': 'Purple'}\n"
     ]
    }
   ],
   "source": [
    "people.pop('Jenny')\n",
    "print(people)"
   ]
  },
  {
   "cell_type": "code",
   "execution_count": 8,
   "id": "35ff9db2",
   "metadata": {},
   "outputs": [
    {
     "name": "stdout",
     "output_type": "stream",
     "text": [
      "['Arham', 'Jenny', 'Lisa', 'Vinod']\n",
      "{'Arham': 'Blue', 'Jenny': 'Pink', 'Lisa': 'Yellow', 'Vinod': 'Purple'}\n",
      "Arham : Blue\n",
      "Jenny : Pink\n",
      "Lisa : Yellow\n",
      "Vinod : Purple\n"
     ]
    }
   ],
   "source": [
    "people={'Arham':'Blue','Lisa':'Yellow','Vinod':'Purple','Jenny':'Pink'}\n",
    "l2=sorted(people)\n",
    "print(l2)\n",
    "s=dict(sorted(people.items()))\n",
    "print(s)\n",
    "for keys,values in s.items():\n",
    "    print(keys,\":\",values)"
   ]
  },
  {
   "cell_type": "markdown",
   "id": "243a271d",
   "metadata": {},
   "source": [
    "3. Write a menu driven program to practice Dictionary functions.\n",
    "Write a program to accept name of a person and their vehicle and store it in a dictionary.\n",
    "Ask user if they want to continue to accept multiple values.\n",
    "Display following menu:\n",
    "a. Add new person name and a vehicle name.\n",
    "b. Delete a person name and vehicle name from the dictionary.\n",
    "----Accept person name from user.\n",
    "----Check whether person name exists in the dictionary.\n",
    "----If exists show person name and vehicle name to the user.\n",
    "----Confirm for deletion, if user enters y\n",
    "then delete otherwise no. Display appropriate message.\n",
    "c. Modify vehicle name for the person\n",
    "----Accept a person name from user.\n",
    "----Check whether the person’s name exists.\n",
    "----If the name exists, show the person’s name and vehicle name to user.\n",
    "Ask for new value and then overwrite the old value.\n",
    "d. Search vehicle for the given person’s name.\n",
    "e. Search list of people, who have given a vehicle\n",
    "f. Display all person names.\n",
    "g. Display all vehicle names.\n",
    "h. Exit\n",
    "\n"
   ]
  },
  {
   "cell_type": "code",
   "execution_count": 2,
   "id": "e775514c",
   "metadata": {},
   "outputs": [
    {
     "ename": "SyntaxError",
     "evalue": "invalid syntax (1942597632.py, line 14)",
     "output_type": "error",
     "traceback": [
      "\u001b[1;36m  Input \u001b[1;32mIn [2]\u001b[1;36m\u001b[0m\n\u001b[1;33m    match ch :\u001b[0m\n\u001b[1;37m          ^\u001b[0m\n\u001b[1;31mSyntaxError\u001b[0m\u001b[1;31m:\u001b[0m invalid syntax\n"
     ]
    }
   ],
   "source": [
    "d1={'Aishwarya':'Scorpio','Rutuja':'H.city','Tej':'Swift'}\n",
    "while True:\n",
    "    print(\" \")\n",
    "    print(\"\"\"a). Add new person name and a vehicle name.\n",
    "    b). Delete a person name and vehicle name from the dictionary.\n",
    "    c). Modify vehicle name for the person\n",
    "    d). Search vehicle for the given person’s name.\n",
    "    e). Search list of people who has given a vehicle\n",
    "    f). Display all person names\n",
    "    g). Display all\n",
    "    q). Exit\"\"\")\n",
    "    print(\"\")\n",
    "    ch=input(\"Enter Choice :\")\n",
    "    match ch :\n",
    "        case 'a':\n",
    "            name=input(\"Enter persone's name \")\n",
    "            vechile=input(\"Enter vechile name\")\n",
    "            if vechlie=='':\n",
    "                vechile='None'\n",
    "            d1[name]=vechile\n",
    "        case 'b':\n",
    "            name=input(\"Enter name of person to delete detail \")\n",
    "            if name in d1:\n",
    "                y=input(\"You really want to delete Y or N\")\n",
    "                if y=='y':\n",
    "                    d1.pop(name)\n",
    "            else:\n",
    "                print(\"No such user\")\n",
    "        case 'c':\n",
    "            modify=input(\"Enter person's name to modify vechile\")\n",
    "            vec=input(\"Enter vechile name\")\n",
    "            if name in d1:\n",
    "                d1[name]=vec\n",
    "            else:\n",
    "                print(\"No such user found\")\n",
    "        case 'd':\n",
    "            srch=input(\"Enter vechile name to search owner \")\n",
    "            if values in d1:\n",
    "                print(d1.keys())\n",
    "            else:\n",
    "                print(\"no such entry\")\n",
    "        case 'e':\n",
    "            l1=d1.keys()\n",
    "            print(l1)\n",
    "        case 'f':\n",
    "            l2=d1.values()\n",
    "            print(l2)\n",
    "        case 'g':\n",
    "            print(d1)\n",
    "        case 'q':\n",
    "            break\n",
    "            \n",
    "        case _:\n",
    "            print(\"Enter valid choice\")"
   ]
  },
  {
   "cell_type": "code",
   "execution_count": null,
   "id": "62c5c2b4",
   "metadata": {},
   "outputs": [],
   "source": []
  },
  {
   "cell_type": "markdown",
   "id": "4b620708",
   "metadata": {},
   "source": [
    "\n",
    "4. Write a program to display following menu and do the following:\n",
    "a. Add new city and trees commonly found in the city.\n",
    "b. Display all cities and the list of trees for all cities.\n",
    "c. Display list of trees of a particular city.\n",
    "---- Accept a city from user search city and if found display list of trees otherwise\n",
    "---- Display message not found\n",
    "d. Display cities which have the given tree.\n",
    "---- Accept a tree name from user and display all cities in which the tree is found.\n",
    "e. Delete city ---- Accept city from user and delete the city if found.\n",
    "---- Prompt user before deletion\n",
    "f. Modify tree list\n",
    "---- Accept city and trees to be added in the city. if city exist add trees at the end of the list\n",
    "---- Otherwise add city and list\n",
    "g. Exit\n"
   ]
  },
  {
   "cell_type": "markdown",
   "id": "f6784e1f",
   "metadata": {},
   "source": [
    "5. Take a sentence as input from user. Every word is seperated by space. \n",
    "a. Create a word_count dictionary which will have unique words and their count. \n",
    "\n",
    "b. create suffix_count dictionary which will contain count of words ending with 's', 'es', 'ed', 'y', 'en' , etc.\n",
    "\n",
    "c. create dictionary word_length_count which will store length of word and count.\n",
    "Ex. \n",
    "input_sent= 'CDAC is in Pune'\n",
    "There are 2 words of length 4 and 2 words of length 2 so,\n",
    "word_length_count = {2:2, 4:2}"
   ]
  },
  {
   "cell_type": "code",
   "execution_count": 29,
   "id": "64dd2237",
   "metadata": {},
   "outputs": [
    {
     "name": "stdout",
     "output_type": "stream",
     "text": [
      "{'Hii': 1, 'this': 1, 'is': 1, 'a': 2, 'dbda': 1, 'class': 1, 'we': 2, 'are': 2, 'on': 1, 'right': 1, 'track': 1}\n"
     ]
    }
   ],
   "source": [
    "#a. Create a word_count dictionary which will have unique words and their count. \n",
    "sen='Hii this is a dbda class we are on a right track are we'\n",
    "l2=sen.split(' ')\n",
    "l1=set(l2)\n",
    "d1={}\n",
    "for w in l2:\n",
    "        d1[w]=l2.count(w)\n",
    "print(d1)            \n"
   ]
  },
  {
   "cell_type": "code",
   "execution_count": 34,
   "id": "6847eb7d",
   "metadata": {},
   "outputs": [
    {
     "name": "stdout",
     "output_type": "stream",
     "text": [
      "{'s': 4, 'es': 1, 'ed': 1, 'en': 1}\n"
     ]
    }
   ],
   "source": [
    "#b. create suffix_count dictionary which will contain count of words ending with 's', 'es', 'ed', 'y', 'en' , etc.\n",
    "sen='Hii this is a dbda class we are on a right track are we es ped aen' \n",
    "l2=sen.split(' ')\n",
    "d1={}\n",
    "l=['s','es','ed','y','en']\n",
    "for word in l2:\n",
    "    \n",
    "    for suffix in l:\n",
    "        if word.endswith(suffix):\n",
    "            if suffix in d1:\n",
    "                d1[suffix]+=1\n",
    "            else:\n",
    "                d1[suffix]=1\n",
    "print(d1)            "
   ]
  },
  {
   "cell_type": "code",
   "execution_count": 2,
   "id": "2614ea7d",
   "metadata": {},
   "outputs": [
    {
     "name": "stdout",
     "output_type": "stream",
     "text": [
      "{3: 5, 4: 2, 2: 5, 1: 2, 5: 3}\n"
     ]
    }
   ],
   "source": [
    "#c. create dictionary word_length_count which will store length of word and count.\n",
    "sen='Hii this is a dbda class we are on a right track are we es ped aen'\n",
    "l2=sen.split(' ')\n",
    "word_count_lenght={}\n",
    "for word in l2:\n",
    "    cn=len(word)\n",
    "    if cn in word_count_lenght:\n",
    "        word_count_lenght[cn] +=1\n",
    "    else:\n",
    "         word_count_lenght[cn] =1\n",
    "print(word_count_lenght)      \n",
    "        "
   ]
  },
  {
   "cell_type": "code",
   "execution_count": null,
   "id": "669b934e",
   "metadata": {},
   "outputs": [],
   "source": []
  }
 ],
 "metadata": {
  "kernelspec": {
   "display_name": "Python 3 (ipykernel)",
   "language": "python",
   "name": "python3"
  },
  "language_info": {
   "codemirror_mode": {
    "name": "ipython",
    "version": 3
   },
   "file_extension": ".py",
   "mimetype": "text/x-python",
   "name": "python",
   "nbconvert_exporter": "python",
   "pygments_lexer": "ipython3",
   "version": "3.9.12"
  }
 },
 "nbformat": 4,
 "nbformat_minor": 5
}
