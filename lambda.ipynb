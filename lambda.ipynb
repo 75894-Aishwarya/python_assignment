{
 "cells": [
  {
   "cell_type": "markdown",
   "id": "83fd7bf2",
   "metadata": {},
   "source": [
    "# Lambda and map Function Assignments"
   ]
  },
  {
   "cell_type": "markdown",
   "id": "ab19ef96",
   "metadata": {},
   "source": [
    " Sort all the numbers in a list in descending order using lambda function"
   ]
  },
  {
   "cell_type": "code",
   "execution_count": 5,
   "id": "3d9cc1ce",
   "metadata": {},
   "outputs": [
    {
     "name": "stdout",
     "output_type": "stream",
     "text": [
      "[33, 8, 7, 5, 3, 2, 1]\n"
     ]
    }
   ],
   "source": [
    "x=[5,3,7,2,1,8,33]\n",
    "s=sorted(x,key=lambda x:-x)\n",
    "print(s)"
   ]
  },
  {
   "cell_type": "markdown",
   "id": "51fccac2",
   "metadata": {},
   "source": [
    "Q Sort all the characters of given string using lambda function"
   ]
  },
  {
   "cell_type": "code",
   "execution_count": 7,
   "id": "ae26288a",
   "metadata": {},
   "outputs": [
    {
     "name": "stdout",
     "output_type": "stream",
     "text": [
      "Enter a string aishwarya\n",
      "['a', 'a', 'a', 'h', 'i', 'r', 's', 'w', 'y']\n"
     ]
    }
   ],
   "source": [
    "string=input(\"Enter a string \")\n",
    "s=sorted(string,key=lambda x:x)\n",
    "print(s)"
   ]
  },
  {
   "cell_type": "markdown",
   "id": "b63ca28e",
   "metadata": {},
   "source": [
    "Given list of strings, sort all the strings by last character of that string. . Use lambda function and normal function both."
   ]
  },
  {
   "cell_type": "code",
   "execution_count": 11,
   "id": "20876fcf",
   "metadata": {},
   "outputs": [
    {
     "name": "stdout",
     "output_type": "stream",
     "text": [
      "['Aisha', 'Mona', 'Simmi', 'Rutu']\n"
     ]
    }
   ],
   "source": [
    "l1=['Aisha','Rutu','Mona','Simmi']\n",
    "l=sorted(l1,key=lambda x:x[-1])\n",
    "print(l)"
   ]
  },
  {
   "cell_type": "code",
   "execution_count": 18,
   "id": "a2a9fdcc",
   "metadata": {},
   "outputs": [
    {
     "name": "stdout",
     "output_type": "stream",
     "text": [
      "['Aisha', 'Mona', 'Simmi', 'Rutu']\n"
     ]
    }
   ],
   "source": [
    "def reve(s):\n",
    "    return s[-1]\n",
    "l2=sorted(l1,key=reve)\n",
    "print(l2)"
   ]
  },
  {
   "cell_type": "markdown",
   "id": "62166c96",
   "metadata": {},
   "source": [
    "Q Given list of employees. This list may contain repetitions. Find all unique employee names and print them as per order of second character in that name. Use lambda function and normal function both."
   ]
  },
  {
   "cell_type": "code",
   "execution_count": 20,
   "id": "99465c73",
   "metadata": {},
   "outputs": [
    {
     "name": "stdout",
     "output_type": "stream",
     "text": [
      "['Aisha', 'Pikku', 'Simmi', 'Mona', 'Rutu']\n"
     ]
    }
   ],
   "source": [
    "l1=['Aisha','Rutu','Mona','Simmi','Aisha','Rutu','Pikku']\n",
    "l2=sorted(set(l1),key=lambda x:x[-2])\n",
    "print(l2)"
   ]
  },
  {
   "cell_type": "code",
   "execution_count": 21,
   "id": "9c20f00b",
   "metadata": {},
   "outputs": [
    {
     "name": "stdout",
     "output_type": "stream",
     "text": [
      "['Aisha', 'Pikku', 'Simmi', 'Mona', 'Rutu']\n"
     ]
    }
   ],
   "source": [
    "def rever(s):\n",
    "    return s[-2]\n",
    "l2=sorted(set(l1),key=rever)\n",
    "print(l2)"
   ]
  },
  {
   "cell_type": "markdown",
   "id": "cbcdc57c",
   "metadata": {},
   "source": [
    "Q. Take Employee id and Employee name of 5 employees from user. Store it in dictionary. Print all employees in increasing order of employee Id . Also print all employees in alphabetical order by name."
   ]
  },
  {
   "cell_type": "code",
   "execution_count": 31,
   "id": "096056cd",
   "metadata": {},
   "outputs": [
    {
     "name": "stdout",
     "output_type": "stream",
     "text": [
      "Enter id 4\n",
      "Enter name aishwarya\n",
      "Enter id 7\n",
      "Enter name rutuja\n",
      "Enter id 2\n",
      "Enter name sneha\n",
      "Enter id 54\n",
      "Enter name teju\n",
      "Enter id 44\n",
      "Enter name apoorva\n",
      "{4: 'aishwarya', 7: 'rutuja', 2: 'sneha', 54: 'teju', 44: 'apoorva'}\n",
      "Sorting BY id\n",
      "[(2, 'sneha'), (4, 'aishwarya'), (7, 'rutuja'), (44, 'apoorva'), (54, 'teju')]\n",
      "Sorting ny name\n",
      "[(4, 'aishwarya'), (44, 'apoorva'), (7, 'rutuja'), (2, 'sneha'), (54, 'teju')]\n"
     ]
    }
   ],
   "source": [
    "d1={}\n",
    "for i in range (5):\n",
    "    id1=int(input(\"Enter id \"))\n",
    "    name=input(\"Enter name \")\n",
    "    d1[id1]=name\n",
    "print(d1)   \n",
    "print(\"Sorting BY id\")\n",
    "d2=sorted(d1.items(),key=lambda x:x[0])\n",
    "print(d2)\n",
    "print(\"Sorting ny name\")\n",
    "d3=sorted(d1.items(),key=lambda x:x[1])\n",
    "print(d3)"
   ]
  },
  {
   "cell_type": "markdown",
   "id": "2f94bd2f",
   "metadata": {},
   "source": [
    "Take comma separated numbers as input from the user. Split it in list of strings. Now convert every string in this list to float using map function"
   ]
  },
  {
   "cell_type": "code",
   "execution_count": 36,
   "id": "9d5d55ef",
   "metadata": {},
   "outputs": [
    {
     "name": "stdout",
     "output_type": "stream",
     "text": [
      "Enter numbers seperated by numbers2,4,33,55,66\n",
      "['2', '4', '33', '55', '66']\n",
      "[2.0, 4.0, 33.0, 55.0, 66.0]\n"
     ]
    }
   ],
   "source": [
    "words=input(\"Enter numbers seperated by numbers\")\n",
    "l1=words.split(\",\")\n",
    "print(l1)\n",
    "l2=list(map(float,l1))\n",
    "print(l2)"
   ]
  },
  {
   "cell_type": "markdown",
   "id": "d41a98ce",
   "metadata": {},
   "source": [
    "Q Given list of floating point numbers. Convert every number into string and then join all the numbers such that they are separated by pipe(|)"
   ]
  },
  {
   "cell_type": "code",
   "execution_count": 38,
   "id": "82b27d52",
   "metadata": {},
   "outputs": [
    {
     "name": "stdout",
     "output_type": "stream",
     "text": [
      "3.14|21.718|11.618|34.2\n"
     ]
    }
   ],
   "source": [
    "float1 = [3.14, 21.718, 11.618, 34.20]\n",
    "st= list(map(str, float1))\n",
    "res = '|'.join(st)\n",
    "print(res)\n"
   ]
  },
  {
   "cell_type": "markdown",
   "id": "a46a3eb6",
   "metadata": {},
   "source": [
    "Q Given list of integers. Use map function to calculate square of all and store in list. Then print sum of all square values.\n"
   ]
  },
  {
   "cell_type": "code",
   "execution_count": 40,
   "id": "3ece20e5",
   "metadata": {},
   "outputs": [
    {
     "name": "stdout",
     "output_type": "stream",
     "text": [
      "[484, 16, 1089, 3025, 4356, 9]\n"
     ]
    }
   ],
   "source": [
    "l1=[22,4,33,55,66,3]\n",
    "def sq(x):\n",
    "    return x**2\n",
    "l2=list(map(sq,l1))\n",
    "print(l2)"
   ]
  },
  {
   "cell_type": "markdown",
   "id": "a8ed5488",
   "metadata": {},
   "source": []
  }
 ],
 "metadata": {
  "kernelspec": {
   "display_name": "Python 3 (ipykernel)",
   "language": "python",
   "name": "python3"
  },
  "language_info": {
   "codemirror_mode": {
    "name": "ipython",
    "version": 3
   },
   "file_extension": ".py",
   "mimetype": "text/x-python",
   "name": "python",
   "nbconvert_exporter": "python",
   "pygments_lexer": "ipython3",
   "version": "3.9.12"
  }
 },
 "nbformat": 4,
 "nbformat_minor": 5
}
